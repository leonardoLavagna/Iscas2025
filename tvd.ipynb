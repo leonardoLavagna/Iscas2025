{
  "nbformat": 4,
  "nbformat_minor": 0,
  "metadata": {
    "colab": {
      "provenance": []
    },
    "kernelspec": {
      "name": "python3",
      "display_name": "Python 3"
    },
    "language_info": {
      "name": "python"
    }
  },
  "cells": [
    {
      "cell_type": "markdown",
      "source": [
        "# tvd\n",
        "If needed execute the following commands\n",
        "```\n",
        "!git clone https://github.com/leonardoLavagna/Iscas2025\n",
        "!pip install -r Iscas2025/requirements.txt\n",
        "\n",
        "```"
      ],
      "metadata": {
        "id": "a-wJWInSnvee"
      }
    },
    {
      "cell_type": "code",
      "source": [
        "import os\n",
        "os.chdir(\"Iscas2025\")"
      ],
      "metadata": {
        "id": "gjhp-uPF0vqA"
      },
      "execution_count": 2,
      "outputs": []
    },
    {
      "cell_type": "code",
      "source": [
        "import re"
      ],
      "metadata": {
        "id": "cHe2px5k7W0M"
      },
      "execution_count": 9,
      "outputs": []
    },
    {
      "cell_type": "code",
      "source": [
        "from qiskit_aer import Aer, AerSimulator\n",
        "from qiskit_ibm_runtime.fake_provider import FakeVigoV2"
      ],
      "metadata": {
        "id": "OODM6c8c1_Xr"
      },
      "execution_count": 3,
      "outputs": []
    },
    {
      "cell_type": "code",
      "source": [
        "from utilities.grover import approximate_grover, create_oracle, simulate\n",
        "from config import shots"
      ],
      "metadata": {
        "id": "Io-OVUawga4g"
      },
      "execution_count": 4,
      "outputs": []
    },
    {
      "cell_type": "code",
      "source": [
        "s = \"10000\"\n",
        "t = s[-1] + s[:-1]\n",
        "qc = approximate_grover(5,create_oracle(t))\n",
        "counts =  simulate(qc,AerSimulator())\n",
        "noisy_counts = simulate(qc,FakeVigoV2())\n",
        "difference_counts = {}\n",
        "for key in counts:\n",
        "  if key in noisy_counts:\n",
        "    difference_counts[key] = counts[key] - noisy_counts[key]\n",
        "  else:\n",
        "    difference_counts[key] = counts[key]\n",
        "total_variation_distance = sum(abs(value) for value in difference_counts.values())"
      ],
      "metadata": {
        "id": "toK1bDfX1dX6"
      },
      "execution_count": 6,
      "outputs": []
    },
    {
      "cell_type": "code",
      "source": [
        "with open('config.py', \"r\") as file:\n",
        "    content = file.read()\n",
        "content = re.sub(r\"tvd\\s*=\\s*[\\d\\.]+\", f\"tvd = {total_variation_distance/shots}\", content)\n",
        "with open('config.py', \"w\") as file:\n",
        "    file.write(content)"
      ],
      "metadata": {
        "id": "yi6F2P2_6Bb2"
      },
      "execution_count": 10,
      "outputs": []
    }
  ]
}