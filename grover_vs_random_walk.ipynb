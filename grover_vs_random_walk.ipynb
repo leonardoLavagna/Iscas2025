{
  "nbformat": 4,
  "nbformat_minor": 0,
  "metadata": {
    "colab": {
      "provenance": []
    },
    "kernelspec": {
      "name": "python3",
      "display_name": "Python 3"
    },
    "language_info": {
      "name": "python"
    }
  },
  "cells": [
    {
      "cell_type": "markdown",
      "source": [
        "# grover_vs_random_walk\n",
        "If needed execute the following commands\n",
        "```\n",
        "!git clone https://github.com/leonardoLavagna/Iscas2025\n",
        "!pip install -r Iscas2025/requirements.txt\n",
        "\n",
        "```"
      ],
      "metadata": {
        "id": "a-wJWInSnvee"
      }
    },
    {
      "cell_type": "code",
      "source": [
        "import os\n",
        "os.chdir(\"Iscas2025\")"
      ],
      "metadata": {
        "id": "gjhp-uPF0vqA"
      },
      "execution_count": 9,
      "outputs": []
    },
    {
      "cell_type": "code",
      "source": [
        "from utilities.grover import permutation_grover, simulate\n",
        "from utilities.quantum_walks import *\n",
        "from config import *"
      ],
      "metadata": {
        "id": "Io-OVUawga4g"
      },
      "execution_count": 10,
      "outputs": []
    },
    {
      "cell_type": "code",
      "source": [
        "s = \"10000\"\n",
        "n = len(s)\n",
        "steps = n-1\n",
        "\n",
        "t = s[-1] + s[:-1]\n",
        "s = permutation_grover(t, lambda s: s[-1] + s[:-1])[0]\n",
        "best_iterations = permutation_grover(t, lambda s: s[-1] + s[:-1])[1]\n",
        "\n",
        "T = []\n",
        "for step in range(1,steps+1):\n",
        "  qc = simple_biased_walk(n,step)\n",
        "  counts = simulate(qc,backend)\n",
        "  if sorted(counts.items(), key=lambda item: item[1], reverse=True)[0][0] == bin(5)[2:].zfill(3):\n",
        "    T.append(step)\n",
        "\n",
        "print(f\"The permuted bitstring t is: {t}\")\n",
        "if s:\n",
        "  print(f\"The original bitstring s is: {s[::-1]}\")\n",
        "else:\n",
        "  print(\"No solution found.\")\n",
        "if best_iterations:\n",
        "  print(f\"The best number of Grover iterations is: {best_iterations}\")\n",
        "  print(f\"The best number of random walk iterations is: {min(T)}\")\n",
        "else:\n",
        "  print(\"No solution found.\")"
      ],
      "metadata": {
        "colab": {
          "base_uri": "https://localhost:8080/"
        },
        "id": "SjFYR4Y8g5im",
        "outputId": "6d72ad22-39a9-4241-98a1-204c3bb5cc59"
      },
      "execution_count": 11,
      "outputs": [
        {
          "output_type": "stream",
          "name": "stdout",
          "text": [
            "The permuted bitstring t is: 01000\n",
            "The original bitstring s is: 10000\n",
            "The best number of Grover iterations is: 4\n",
            "The best number of random walk iterations is: 2\n"
          ]
        }
      ]
    }
  ]
}