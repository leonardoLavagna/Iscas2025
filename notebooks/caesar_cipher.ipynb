{
 "cells": [
  {
   "cell_type": "markdown",
   "metadata": {
    "id": "a-wJWInSnvee"
   },
   "source": [
    "# caesar_cipher\n",
    "If needed execute the following commands\n",
    "```\n",
    "!git clone https://github.com/leonardoLavagna/Iscas2025\n",
    "!pip install -r Iscas2025/requirements.txt **testo in grassetto**\n",
    "\n",
    "```"
   ]
  },
  {
   "cell_type": "code",
   "execution_count": 1,
   "metadata": {
    "id": "gjhp-uPF0vqA"
   },
   "outputs": [],
   "source": [
    "import os\n",
    "os.chdir(\"..\")"
   ]
  },
  {
   "cell_type": "code",
   "execution_count": null,
   "metadata": {},
   "outputs": [],
   "source": [
    "from utilities.caesar_cipher import *\n",
    "from utilities.quantum_walks import *\n",
    "from utilities.grover import simulate\n",
    "from config import *"
   ]
  },
  {
   "cell_type": "code",
   "execution_count": 15,
   "metadata": {
    "colab": {
     "base_uri": "https://localhost:8080/"
    },
    "id": "ZDFX1iib77DQ",
    "outputId": "ab53aa2b-517e-4f40-a867-da5b0c910847"
   },
   "outputs": [
    {
     "data": {
      "text/plain": [
       "0.04"
      ]
     },
     "execution_count": 15,
     "metadata": {},
     "output_type": "execute_result"
    }
   ],
   "source": [
    "key = 1\n",
    "N = 100\n",
    "text_list = [generate_random_string(5) for _ in range(N)]\n",
    "when_correct = 0\n",
    "for text in text_list:\n",
    "  encrypted_text = caesars_cipher_encryption(text, key)\n",
    "  decrypted_text = frequency_attack(encrypted_text)\n",
    "  if decrypted_text == text:\n",
    "    when_correct += 1\n",
    "when_correct/N"
   ]
  },
  {
   "cell_type": "code",
   "execution_count": 18,
   "metadata": {
    "colab": {
     "base_uri": "https://localhost:8080/"
    },
    "id": "qfsbK4RT7724",
    "outputId": "6dbc1580-6d9f-4c2d-d6f3-2705c9461668"
   },
   "outputs": [
    {
     "data": {
      "text/plain": [
       "0.05"
      ]
     },
     "execution_count": 18,
     "metadata": {},
     "output_type": "execute_result"
    }
   ],
   "source": [
    "string_list = [generate_random_string(5, ['0','1']) for _ in range(N)]\n",
    "n = 5\n",
    "steps = n-1\n",
    "when_correct = 0\n",
    "T = []\n",
    "for string in string_list:\n",
    "  for step in range(1,steps+1):\n",
    "    qc = simple_biased_walk(2**n,step)\n",
    "    counts = simulate(qc,backend)\n",
    "    string_perm = string[-1] + string[:-1]\n",
    "    string_rec = sorted(counts.items(), key=lambda item: item[1], reverse=True)[0][0]\n",
    "    if string_perm == string_rec:\n",
    "      T.append(step)\n",
    "  if T != []:\n",
    "    t = min(T)\n",
    "  else:\n",
    "    t = 0\n",
    "  if string_perm == string_rec:\n",
    "    when_correct += 1\n",
    "when_correct/N"
   ]
  }
 ],
 "metadata": {
  "colab": {
   "provenance": []
  },
  "kernelspec": {
   "display_name": "Python 3 (ipykernel)",
   "language": "python",
   "name": "python3"
  },
  "language_info": {
   "codemirror_mode": {
    "name": "ipython",
    "version": 3
   },
   "file_extension": ".py",
   "mimetype": "text/x-python",
   "name": "python",
   "nbconvert_exporter": "python",
   "pygments_lexer": "ipython3",
   "version": "3.11.0"
  }
 },
 "nbformat": 4,
 "nbformat_minor": 4
}
