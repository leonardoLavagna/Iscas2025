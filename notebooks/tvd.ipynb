{
 "cells": [
  {
   "cell_type": "markdown",
   "metadata": {
    "id": "a-wJWInSnvee"
   },
   "source": [
    "# tvd\n",
    "If needed execute the following commands\n",
    "```\n",
    "!git clone https://github.com/leonardoLavagna/Iscas2025\n",
    "!pip install -r Iscas2025/requirements.txt\n",
    "\n",
    "```"
   ]
  },
  {
   "cell_type": "code",
   "execution_count": 2,
   "metadata": {
    "id": "gjhp-uPF0vqA"
   },
   "outputs": [],
   "source": [
    "import os\n",
    "os.chdir(\"..\")"
   ]
  },
  {
   "cell_type": "code",
   "execution_count": 9,
   "metadata": {
    "id": "cHe2px5k7W0M"
   },
   "outputs": [],
   "source": [
    "import re"
   ]
  },
  {
   "cell_type": "code",
   "execution_count": 3,
   "metadata": {
    "id": "OODM6c8c1_Xr"
   },
   "outputs": [],
   "source": [
    "from qiskit_aer import Aer, AerSimulator\n",
    "from qiskit_ibm_runtime.fake_provider import FakeVigoV2"
   ]
  },
  {
   "cell_type": "code",
   "execution_count": 4,
   "metadata": {
    "id": "Io-OVUawga4g"
   },
   "outputs": [],
   "source": [
    "from utilities.grover import approximate_grover, create_oracle, simulate\n",
    "from config import shots"
   ]
  },
  {
   "cell_type": "code",
   "execution_count": 6,
   "metadata": {
    "id": "toK1bDfX1dX6"
   },
   "outputs": [],
   "source": [
    "s = \"10000\"\n",
    "t = s[-1] + s[:-1]\n",
    "qc = approximate_grover(5,create_oracle(t))\n",
    "counts =  simulate(qc,AerSimulator())\n",
    "noisy_counts = simulate(qc,FakeVigoV2())\n",
    "difference_counts = {}\n",
    "for key in counts:\n",
    "  if key in noisy_counts:\n",
    "    difference_counts[key] = counts[key] - noisy_counts[key]\n",
    "  else:\n",
    "    difference_counts[key] = counts[key]\n",
    "total_variation_distance = sum(abs(value) for value in difference_counts.values())"
   ]
  },
  {
   "cell_type": "code",
   "execution_count": 10,
   "metadata": {
    "id": "yi6F2P2_6Bb2"
   },
   "outputs": [],
   "source": [
    "with open('config.py', \"r\") as file:\n",
    "    content = file.read()\n",
    "content = re.sub(r\"tvd\\s*=\\s*[\\d\\.]+\", f\"tvd = {total_variation_distance/shots}\", content)\n",
    "with open('config.py', \"w\") as file:\n",
    "    file.write(content)"
   ]
  }
 ],
 "metadata": {
  "colab": {
   "provenance": []
  },
  "kernelspec": {
   "display_name": "Python 3 (ipykernel)",
   "language": "python",
   "name": "python3"
  },
  "language_info": {
   "codemirror_mode": {
    "name": "ipython",
    "version": 3
   },
   "file_extension": ".py",
   "mimetype": "text/x-python",
   "name": "python",
   "nbconvert_exporter": "python",
   "pygments_lexer": "ipython3",
   "version": "3.11.0"
  }
 },
 "nbformat": 4,
 "nbformat_minor": 4
}
