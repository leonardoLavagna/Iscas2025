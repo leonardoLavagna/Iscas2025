{
 "cells": [
  {
   "cell_type": "markdown",
   "metadata": {
    "id": "a-wJWInSnvee"
   },
   "source": [
    "# grover_vs_random_walk\n",
    "If needed execute the following commands\n",
    "```\n",
    "!git clone https://github.com/leonardoLavagna/Iscas2025\n",
    "!pip install -r Iscas2025/requirements.txt\n",
    "\n",
    "```"
   ]
  },
  {
   "cell_type": "code",
   "execution_count": 9,
   "metadata": {
    "id": "gjhp-uPF0vqA"
   },
   "outputs": [],
   "source": [
    "import os\n",
    "os.chdir(\"..\")"
   ]
  },
  {
   "cell_type": "code",
   "execution_count": 10,
   "metadata": {
    "id": "Io-OVUawga4g"
   },
   "outputs": [],
   "source": [
    "from utilities.grover import permutation_grover, simulate\n",
    "from utilities.quantum_walks import *\n",
    "from config import *"
   ]
  },
  {
   "cell_type": "code",
   "execution_count": 11,
   "metadata": {
    "colab": {
     "base_uri": "https://localhost:8080/"
    },
    "id": "SjFYR4Y8g5im",
    "outputId": "6d72ad22-39a9-4241-98a1-204c3bb5cc59"
   },
   "outputs": [
    {
     "name": "stdout",
     "output_type": "stream",
     "text": [
      "The permuted bitstring t is: 01000\n",
      "The original bitstring s is: 10000\n",
      "The best number of Grover iterations is: 4\n",
      "The best number of random walk iterations is: 2\n"
     ]
    }
   ],
   "source": [
    "s = \"10000\"\n",
    "n = len(s)\n",
    "steps = n-1\n",
    "\n",
    "t = s[-1] + s[:-1]\n",
    "s = permutation_grover(t, lambda s: s[-1] + s[:-1])[0]\n",
    "best_iterations = permutation_grover(t, lambda s: s[-1] + s[:-1])[1]\n",
    "\n",
    "T = []\n",
    "for step in range(1,steps+1):\n",
    "  qc = simple_biased_walk(n,step)\n",
    "  counts = simulate(qc,backend)\n",
    "  if sorted(counts.items(), key=lambda item: item[1], reverse=True)[0][0] == bin(5)[2:].zfill(3):\n",
    "    T.append(step)\n",
    "\n",
    "print(f\"The permuted bitstring t is: {t}\")\n",
    "if s:\n",
    "  print(f\"The original bitstring s is: {s[::-1]}\")\n",
    "else:\n",
    "  print(\"No solution found.\")\n",
    "if best_iterations:\n",
    "  print(f\"The best number of Grover iterations is: {best_iterations}\")\n",
    "  print(f\"The best number of random walk iterations is: {min(T)}\")\n",
    "else:\n",
    "  print(\"No solution found.\")"
   ]
  }
 ],
 "metadata": {
  "colab": {
   "provenance": []
  },
  "kernelspec": {
   "display_name": "Python 3 (ipykernel)",
   "language": "python",
   "name": "python3"
  },
  "language_info": {
   "codemirror_mode": {
    "name": "ipython",
    "version": 3
   },
   "file_extension": ".py",
   "mimetype": "text/x-python",
   "name": "python",
   "nbconvert_exporter": "python",
   "pygments_lexer": "ipython3",
   "version": "3.11.0"
  }
 },
 "nbformat": 4,
 "nbformat_minor": 4
}
