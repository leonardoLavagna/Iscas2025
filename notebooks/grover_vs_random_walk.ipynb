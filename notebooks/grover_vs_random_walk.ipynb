{
  "nbformat": 4,
  "nbformat_minor": 0,
  "metadata": {
    "colab": {
      "provenance": []
    },
    "kernelspec": {
      "name": "python3",
      "display_name": "Python 3"
    },
    "language_info": {
      "name": "python"
    }
  },
  "cells": [
    {
      "cell_type": "markdown",
      "source": [
        "# notebooks.grover_vs_random_walk"
      ],
      "metadata": {
        "id": "a-wJWInSnvee"
      }
    },
    {
      "cell_type": "code",
      "source": [
        "#!pip install -r requirements.txt"
      ],
      "metadata": {
        "id": "6HnZoMGrx7lz"
      },
      "execution_count": 1,
      "outputs": []
    },
    {
      "cell_type": "code",
      "source": [
        "import numpy as np\n",
        "import random\n",
        "import string"
      ],
      "metadata": {
        "id": "jCpHrM7Qg_uM"
      },
      "execution_count": 2,
      "outputs": []
    },
    {
      "cell_type": "code",
      "source": [
        "from grover import permutation_grover, simulate\n",
        "from quantum_walks import *\n",
        "from config import *"
      ],
      "metadata": {
        "id": "Io-OVUawga4g"
      },
      "execution_count": 3,
      "outputs": []
    },
    {
      "cell_type": "code",
      "source": [
        "s = \"10000\"\n",
        "n = len(s)\n",
        "steps = n-1\n",
        "\n",
        "t = s[-1] + s[:-1]\n",
        "s = permutation_grover(t, lambda s: s[-1] + s[:-1])[0]\n",
        "best_iterations = permutation_grover(t, lambda s: s[-1] + s[:-1])[1]\n",
        "\n",
        "T = []\n",
        "for step in range(1,steps+1):\n",
        "  qc = simple_biased_walk(n,step)\n",
        "  counts = simulate(qc,backend)\n",
        "  if sorted(counts.items(), key=lambda item: item[1], reverse=True)[0][0] == bin(5)[2:].zfill(3):\n",
        "    T.append(step)\n",
        "\n",
        "print(f\"The permuted bitstring t is: {t}\")\n",
        "if s:\n",
        "  print(f\"The original bitstring s is: {s[::-1]}\")\n",
        "else:\n",
        "  print(\"No solution found.\")\n",
        "if best_iterations:\n",
        "  print(f\"The best number of Grover iterations is: {best_iterations}\")\n",
        "  print(f\"The best number of random walk iterations is: {min(T)}\")\n",
        "else:\n",
        "  print(\"No solution found.\")"
      ],
      "metadata": {
        "colab": {
          "base_uri": "https://localhost:8080/"
        },
        "id": "SjFYR4Y8g5im",
        "outputId": "67766068-0b55-4ea9-b7f4-b7268f6b4202"
      },
      "execution_count": 4,
      "outputs": [
        {
          "output_type": "stream",
          "name": "stdout",
          "text": [
            "The permuted bitstring t is: 01000\n",
            "The original bitstring s is: 10000\n",
            "The best number of Grover iterations is: 4\n",
            "The best number of random walk iterations is: 2\n"
          ]
        }
      ]
    }
  ]
}